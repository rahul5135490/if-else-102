{
 "cells": [
  {
   "cell_type": "code",
   "execution_count": 1,
   "id": "3cfee9b5",
   "metadata": {},
   "outputs": [
    {
     "name": "stdout",
     "output_type": "stream",
     "text": [
      "x is greater than  10\n"
     ]
    }
   ],
   "source": [
    "x=10\n",
    "if(x>=10):\n",
    "    print(\"x is greater than  10\")"
   ]
  },
  {
   "cell_type": "code",
   "execution_count": 2,
   "id": "6e46ef69",
   "metadata": {},
   "outputs": [
    {
     "name": "stdout",
     "output_type": "stream",
     "text": [
      "Enter the Age56\n",
      "you are eligible for vote\n"
     ]
    }
   ],
   "source": [
    "age=input(\"Enter the Age\")\n",
    "age=float(age)\n",
    "if age>18:\n",
    "    print(\"you are eligible for vote\")"
   ]
  },
  {
   "cell_type": "code",
   "execution_count": 3,
   "id": "9be76901",
   "metadata": {},
   "outputs": [
    {
     "name": "stdout",
     "output_type": "stream",
     "text": [
      "Enter the Age67\n",
      "you are eligible for vote\n"
     ]
    }
   ],
   "source": [
    "age=input(\"Enter the Age\")\n",
    "age=float(age)\n",
    "if age>18:print(\"you are eligible for vote\")"
   ]
  },
  {
   "cell_type": "code",
   "execution_count": null,
   "id": "0554cc0b",
   "metadata": {},
   "outputs": [],
   "source": []
  }
 ],
 "metadata": {
  "kernelspec": {
   "display_name": "Python 3 (ipykernel)",
   "language": "python",
   "name": "python3"
  },
  "language_info": {
   "codemirror_mode": {
    "name": "ipython",
    "version": 3
   },
   "file_extension": ".py",
   "mimetype": "text/x-python",
   "name": "python",
   "nbconvert_exporter": "python",
   "pygments_lexer": "ipython3",
   "version": "3.9.13"
  }
 },
 "nbformat": 4,
 "nbformat_minor": 5
}
